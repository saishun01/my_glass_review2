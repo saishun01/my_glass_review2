{
 "cells": [
  {
   "cell_type": "code",
   "execution_count": 1,
   "metadata": {},
   "outputs": [],
   "source": [
    "import numpy as np\n",
    "import matplotlib.pyplot as plt\n",
    "import pandas as pd"
   ]
  },
  {
   "cell_type": "code",
   "execution_count": 2,
   "metadata": {},
   "outputs": [
    {
     "data": {
      "text/html": [
       "<div>\n",
       "<style scoped>\n",
       "    .dataframe tbody tr th:only-of-type {\n",
       "        vertical-align: middle;\n",
       "    }\n",
       "\n",
       "    .dataframe tbody tr th {\n",
       "        vertical-align: top;\n",
       "    }\n",
       "\n",
       "    .dataframe thead th {\n",
       "        text-align: right;\n",
       "    }\n",
       "</style>\n",
       "<table border=\"1\" class=\"dataframe\">\n",
       "  <thead>\n",
       "    <tr style=\"text-align: right;\">\n",
       "      <th></th>\n",
       "      <th>wl</th>\n",
       "      <th>val_Hglamp</th>\n",
       "      <th>val_a</th>\n",
       "      <th>val_b</th>\n",
       "      <th>int_Hglamp</th>\n",
       "      <th>int_a</th>\n",
       "      <th>int_b</th>\n",
       "      <th>pc_Hglamp</th>\n",
       "      <th>pc_a</th>\n",
       "      <th>pc_b</th>\n",
       "    </tr>\n",
       "  </thead>\n",
       "  <tbody>\n",
       "    <tr>\n",
       "      <th>0</th>\n",
       "      <td>360</td>\n",
       "      <td>0.225301</td>\n",
       "      <td>0.000964</td>\n",
       "      <td>0.000546</td>\n",
       "      <td>15.023984</td>\n",
       "      <td>0.681131</td>\n",
       "      <td>0.048447</td>\n",
       "      <td>66.684052</td>\n",
       "      <td>706.567017</td>\n",
       "      <td>88.73056</td>\n",
       "    </tr>\n",
       "    <tr>\n",
       "      <th>1</th>\n",
       "      <td>361</td>\n",
       "      <td>0.450602</td>\n",
       "      <td>0.001928</td>\n",
       "      <td>0.001093</td>\n",
       "      <td>30.047967</td>\n",
       "      <td>1.362261</td>\n",
       "      <td>0.096983</td>\n",
       "      <td>NaN</td>\n",
       "      <td>NaN</td>\n",
       "      <td>NaN</td>\n",
       "    </tr>\n",
       "    <tr>\n",
       "      <th>2</th>\n",
       "      <td>362</td>\n",
       "      <td>0.534448</td>\n",
       "      <td>0.002890</td>\n",
       "      <td>0.001184</td>\n",
       "      <td>35.639158</td>\n",
       "      <td>2.041979</td>\n",
       "      <td>0.105057</td>\n",
       "      <td>NaN</td>\n",
       "      <td>NaN</td>\n",
       "      <td>NaN</td>\n",
       "    </tr>\n",
       "    <tr>\n",
       "      <th>3</th>\n",
       "      <td>363</td>\n",
       "      <td>0.618293</td>\n",
       "      <td>0.000966</td>\n",
       "      <td>0.001001</td>\n",
       "      <td>41.230283</td>\n",
       "      <td>0.682544</td>\n",
       "      <td>0.088819</td>\n",
       "      <td>NaN</td>\n",
       "      <td>NaN</td>\n",
       "      <td>NaN</td>\n",
       "    </tr>\n",
       "    <tr>\n",
       "      <th>4</th>\n",
       "      <td>364</td>\n",
       "      <td>0.663260</td>\n",
       "      <td>0.000658</td>\n",
       "      <td>0.001191</td>\n",
       "      <td>44.228864</td>\n",
       "      <td>0.464921</td>\n",
       "      <td>0.105678</td>\n",
       "      <td>NaN</td>\n",
       "      <td>NaN</td>\n",
       "      <td>NaN</td>\n",
       "    </tr>\n",
       "    <tr>\n",
       "      <th>...</th>\n",
       "      <td>...</td>\n",
       "      <td>...</td>\n",
       "      <td>...</td>\n",
       "      <td>...</td>\n",
       "      <td>...</td>\n",
       "      <td>...</td>\n",
       "      <td>...</td>\n",
       "      <td>...</td>\n",
       "      <td>...</td>\n",
       "      <td>...</td>\n",
       "    </tr>\n",
       "    <tr>\n",
       "      <th>396</th>\n",
       "      <td>756</td>\n",
       "      <td>0.036374</td>\n",
       "      <td>0.000366</td>\n",
       "      <td>0.000654</td>\n",
       "      <td>2.425566</td>\n",
       "      <td>0.258604</td>\n",
       "      <td>0.058030</td>\n",
       "      <td>NaN</td>\n",
       "      <td>NaN</td>\n",
       "      <td>NaN</td>\n",
       "    </tr>\n",
       "    <tr>\n",
       "      <th>397</th>\n",
       "      <td>757</td>\n",
       "      <td>0.035582</td>\n",
       "      <td>0.000074</td>\n",
       "      <td>0.000330</td>\n",
       "      <td>2.372752</td>\n",
       "      <td>0.052286</td>\n",
       "      <td>0.029281</td>\n",
       "      <td>NaN</td>\n",
       "      <td>NaN</td>\n",
       "      <td>NaN</td>\n",
       "    </tr>\n",
       "    <tr>\n",
       "      <th>398</th>\n",
       "      <td>758</td>\n",
       "      <td>0.035711</td>\n",
       "      <td>0.000150</td>\n",
       "      <td>0.000287</td>\n",
       "      <td>2.381354</td>\n",
       "      <td>0.105985</td>\n",
       "      <td>0.025466</td>\n",
       "      <td>NaN</td>\n",
       "      <td>NaN</td>\n",
       "      <td>NaN</td>\n",
       "    </tr>\n",
       "    <tr>\n",
       "      <th>399</th>\n",
       "      <td>759</td>\n",
       "      <td>0.035265</td>\n",
       "      <td>0.000454</td>\n",
       "      <td>0.000288</td>\n",
       "      <td>2.351613</td>\n",
       "      <td>0.320781</td>\n",
       "      <td>0.025554</td>\n",
       "      <td>NaN</td>\n",
       "      <td>NaN</td>\n",
       "      <td>NaN</td>\n",
       "    </tr>\n",
       "    <tr>\n",
       "      <th>400</th>\n",
       "      <td>760</td>\n",
       "      <td>0.034819</td>\n",
       "      <td>0.000758</td>\n",
       "      <td>0.000290</td>\n",
       "      <td>2.321872</td>\n",
       "      <td>0.535578</td>\n",
       "      <td>0.025732</td>\n",
       "      <td>NaN</td>\n",
       "      <td>NaN</td>\n",
       "      <td>NaN</td>\n",
       "    </tr>\n",
       "  </tbody>\n",
       "</table>\n",
       "<p>401 rows × 10 columns</p>\n",
       "</div>"
      ],
      "text/plain": [
       "      wl  val_Hglamp     val_a     val_b  int_Hglamp     int_a     int_b  \\\n",
       "0    360    0.225301  0.000964  0.000546   15.023984  0.681131  0.048447   \n",
       "1    361    0.450602  0.001928  0.001093   30.047967  1.362261  0.096983   \n",
       "2    362    0.534448  0.002890  0.001184   35.639158  2.041979  0.105057   \n",
       "3    363    0.618293  0.000966  0.001001   41.230283  0.682544  0.088819   \n",
       "4    364    0.663260  0.000658  0.001191   44.228864  0.464921  0.105678   \n",
       "..   ...         ...       ...       ...         ...       ...       ...   \n",
       "396  756    0.036374  0.000366  0.000654    2.425566  0.258604  0.058030   \n",
       "397  757    0.035582  0.000074  0.000330    2.372752  0.052286  0.029281   \n",
       "398  758    0.035711  0.000150  0.000287    2.381354  0.105985  0.025466   \n",
       "399  759    0.035265  0.000454  0.000288    2.351613  0.320781  0.025554   \n",
       "400  760    0.034819  0.000758  0.000290    2.321872  0.535578  0.025732   \n",
       "\n",
       "     pc_Hglamp        pc_a      pc_b  \n",
       "0    66.684052  706.567017  88.73056  \n",
       "1          NaN         NaN       NaN  \n",
       "2          NaN         NaN       NaN  \n",
       "3          NaN         NaN       NaN  \n",
       "4          NaN         NaN       NaN  \n",
       "..         ...         ...       ...  \n",
       "396        NaN         NaN       NaN  \n",
       "397        NaN         NaN       NaN  \n",
       "398        NaN         NaN       NaN  \n",
       "399        NaN         NaN       NaN  \n",
       "400        NaN         NaN       NaN  \n",
       "\n",
       "[401 rows x 10 columns]"
      ]
     },
     "execution_count": 2,
     "metadata": {},
     "output_type": "execute_result"
    }
   ],
   "source": [
    "df = pd.read_csv('scope.csv')\n",
    "df"
   ]
  },
  {
   "cell_type": "code",
   "execution_count": 3,
   "metadata": {},
   "outputs": [
    {
     "data": {
      "text/plain": [
       "<Figure size 432x288 with 0 Axes>"
      ]
     },
     "metadata": {},
     "output_type": "display_data"
    },
    {
     "data": {
      "image/png": "[encoded data removed]",
      "text/plain": [
       "<Figure size 432x288 with 1 Axes>"
      ]
     },
     "metadata": {
      "needs_background": "light"
     },
     "output_type": "display_data"
    }
   ],
   "source": [
    "plt.figure()\n",
    "ax = df.plot('wl', 'int_Hglamp')\n",
    "df.plot('wl', 'int_a', ax=ax)\n",
    "df.plot('wl', 'int_b', ax=ax)\n",
    "plt.show()"
   ]
  },
  {
   "cell_type": "code",
   "execution_count": 4,
   "metadata": {},
   "outputs": [
    {
     "data": {
      "image/png": "[encoded data removed]",
      "text/plain": [
       "<Figure size 432x288 with 1 Axes>"
      ]
     },
     "metadata": {
      "needs_background": "light"
     },
     "output_type": "display_data"
    }
   ],
   "source": [
    "df.plot('wl', 'int_Hglamp', legend=False)\n",
    "plt.xlabel('Wavelength (nm)')\n",
    "plt.ylabel('Intensity')\n",
    "plt.xlim(360, 760)\n",
    "plt.ylim(0,70)\n",
    "#plt.ylim(1,100)\n",
    "#plt.yscale('log')\n",
    "plt.show()"
   ]
  },
  {
   "cell_type": "code",
   "execution_count": 5,
   "metadata": {},
   "outputs": [
    {
     "name": "stdout",
     "output_type": "stream",
     "text": [
      "[368, 408, 436, 469, 473, 489, 516, 548, 578, 632, 652, 664, 673, 691, 694, 716, 725, 734, 744, 751, 754, 758]\n"
     ]
    }
   ],
   "source": [
    "peaks = []\n",
    "N = 1\n",
    "data = np.array(df['int_Hglamp'])\n",
    "for i in range(len(data)):\n",
    "    if i < N or i > len(data) - N - 1:\n",
    "        continue\n",
    "    if data[i+N] < data[i] and data[i-N] < data[i]:\n",
    "        peaks.append(np.array(df['wl'])[i])\n",
    "print(peaks)"
   ]
  },
  {
   "cell_type": "markdown",
   "metadata": {},
   "source": [
    "## memo\n",
    "Hg : 368, 408, 436, 548, 578"
   ]
  },
  {
   "cell_type": "code",
   "execution_count": 8,
   "metadata": {},
   "outputs": [
    {
     "data": {
      "image/png": "[encoded data removed]",
      "text/plain": [
       "<Figure size 432x288 with 1 Axes>"
      ]
     },
     "metadata": {
      "needs_background": "light"
     },
     "output_type": "display_data"
    }
   ],
   "source": [
    "df.plot('wl', 'int_Hglamp', legend=False)\n",
    "plt.xlabel('Wavelength (nm)')\n",
    "plt.ylabel('Intensity')\n",
    "plt.xlim(360, 370)\n",
    "plt.ylim(0,70)\n",
    "#plt.ylim(1,100)\n",
    "#plt.yscale('log')\n",
    "plt.show()"
   ]
  },
  {
   "cell_type": "code",
   "execution_count": 6,
   "metadata": {},
   "outputs": [
    {
     "data": {
      "text/plain": [
       "<Figure size 432x288 with 0 Axes>"
      ]
     },
     "metadata": {},
     "output_type": "display_data"
    },
    {
     "data": {
      "image/png": "[encoded data removed]",
      "text/plain": [
       "<Figure size 432x288 with 1 Axes>"
      ]
     },
     "metadata": {
      "needs_background": "light"
     },
     "output_type": "display_data"
    }
   ],
   "source": [
    "plt.figure()\n",
    "ax = df.plot('wl', 'int_a', label='U-MWIG3')\n",
    "df.plot('wl', 'int_b', ax=ax, label='U-MGFPHQ')\n",
    "plt.xlim(360,760)\n",
    "plt.ylim(0,800)\n",
    "plt.xlabel('Wavelength (nm)')\n",
    "plt.ylabel('Intensity')\n",
    "plt.show()"
   ]
  },
  {
   "cell_type": "code",
   "execution_count": 7,
   "metadata": {},
   "outputs": [
    {
     "name": "stdout",
     "output_type": "stream",
     "text": [
      "[362, 372, 382, 395, 407, 409, 418, 432, 441, 453, 467, 478, 488, 501, 512, 548, 579, 590, 600, 611, 622, 634, 642, 645, 653, 662, 665, 675, 685, 694, 705, 714, 717, 725, 733, 743, 752]\n",
      "[362, 365, 373, 376, 386, 394, 398, 404, 408, 413, 421, 426, 432, 435, 466, 501, 513, 519, 525, 533, 537, 548, 551, 558, 562, 565, 570, 581, 585, 590, 603, 614, 624, 631, 634, 638, 644, 647, 651, 654, 665, 668, 677, 681, 686, 696, 704, 708, 713, 716, 725, 731, 736, 745, 753, 755]\n"
     ]
    }
   ],
   "source": [
    "peaks = []\n",
    "N = 1\n",
    "data = np.array(df['int_a'])\n",
    "for i in range(len(data)):\n",
    "    if i < N or i > len(data) - N - 1:\n",
    "        continue\n",
    "    if data[i+N] < data[i] and data[i-N] < data[i]:\n",
    "        peaks.append(np.array(df['wl'])[i])\n",
    "print(peaks)\n",
    "\n",
    "peaks = []\n",
    "N = 1\n",
    "data = np.array(df['int_b'])\n",
    "for i in range(len(data)):\n",
    "    if i < N or i > len(data) - N - 1:\n",
    "        continue\n",
    "    if data[i+N] < data[i] and data[i-N] < data[i]:\n",
    "        peaks.append(np.array(df['wl'])[i])\n",
    "print(peaks)"
   ]
  },
  {
   "cell_type": "markdown",
   "metadata": {},
   "source": [
    "## memo\n",
    "a: 548 nm\n",
    "\n",
    "b: 466 nm"
   ]
  },
  {
   "cell_type": "code",
   "execution_count": null,
   "metadata": {},
   "outputs": [],
   "source": []
  }
 ],
 "metadata": {
  "interpreter": {
   "hash": "b1e0d7642be22cffe3fc7c13c4a6ef160b804554493ff5112b51402e3f69826a"
  },
  "kernelspec": {
   "display_name": "Python 3.9.9 64-bit (windows store)",
   "language": "python",
   "name": "python3"
  },
  "language_info": {
   "codemirror_mode": {
    "name": "ipython",
    "version": 3
   },
   "file_extension": ".py",
   "mimetype": "text/x-python",
   "name": "python",
   "nbconvert_exporter": "python",
   "pygments_lexer": "ipython3",
   "version": "3.9.9"
  },
  "orig_nbformat": 4
 },
 "nbformat": 4,
 "nbformat_minor": 2
}
