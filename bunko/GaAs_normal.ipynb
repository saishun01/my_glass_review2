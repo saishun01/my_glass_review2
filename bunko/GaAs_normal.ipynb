{
 "cells": [
  {
   "cell_type": "code",
   "execution_count": 1,
   "metadata": {},
   "outputs": [],
   "source": [
    "import numpy as np\n",
    "import pandas as pd\n",
    "import matplotlib.pyplot as plt"
   ]
  },
  {
   "cell_type": "code",
   "execution_count": 2,
   "metadata": {},
   "outputs": [
    {
     "data": {
      "text/html": [
       "<div>\n",
       "<style scoped>\n",
       "    .dataframe tbody tr th:only-of-type {\n",
       "        vertical-align: middle;\n",
       "    }\n",
       "\n",
       "    .dataframe tbody tr th {\n",
       "        vertical-align: top;\n",
       "    }\n",
       "\n",
       "    .dataframe thead th {\n",
       "        text-align: right;\n",
       "    }\n",
       "</style>\n",
       "<table border=\"1\" class=\"dataframe\">\n",
       "  <thead>\n",
       "    <tr style=\"text-align: right;\">\n",
       "      <th></th>\n",
       "      <th>wl</th>\n",
       "      <th>ref_1</th>\n",
       "      <th>GaAs_1</th>\n",
       "      <th>wl_bg</th>\n",
       "      <th>bg_1</th>\n",
       "      <th>ref_2</th>\n",
       "      <th>GaAs_2</th>\n",
       "      <th>bg_2</th>\n",
       "    </tr>\n",
       "  </thead>\n",
       "  <tbody>\n",
       "    <tr>\n",
       "      <th>0</th>\n",
       "      <td>700.00</td>\n",
       "      <td>3.218957</td>\n",
       "      <td>-0.011616</td>\n",
       "      <td>700.00</td>\n",
       "      <td>-0.012931</td>\n",
       "      <td>3.209746</td>\n",
       "      <td>-0.010958</td>\n",
       "      <td>-0.006352</td>\n",
       "    </tr>\n",
       "    <tr>\n",
       "      <th>1</th>\n",
       "      <td>700.02</td>\n",
       "      <td>3.217970</td>\n",
       "      <td>-0.018524</td>\n",
       "      <td>700.02</td>\n",
       "      <td>-0.019511</td>\n",
       "      <td>3.211391</td>\n",
       "      <td>-0.014247</td>\n",
       "      <td>-0.015892</td>\n",
       "    </tr>\n",
       "    <tr>\n",
       "      <th>2</th>\n",
       "      <td>700.04</td>\n",
       "      <td>3.216654</td>\n",
       "      <td>-0.018195</td>\n",
       "      <td>700.04</td>\n",
       "      <td>-0.010958</td>\n",
       "      <td>3.194942</td>\n",
       "      <td>-0.007997</td>\n",
       "      <td>-0.015234</td>\n",
       "    </tr>\n",
       "    <tr>\n",
       "      <th>3</th>\n",
       "      <td>700.06</td>\n",
       "      <td>3.217641</td>\n",
       "      <td>-0.011287</td>\n",
       "      <td>700.06</td>\n",
       "      <td>-0.010958</td>\n",
       "      <td>3.208759</td>\n",
       "      <td>-0.009971</td>\n",
       "      <td>-0.012274</td>\n",
       "    </tr>\n",
       "    <tr>\n",
       "      <th>4</th>\n",
       "      <td>700.08</td>\n",
       "      <td>3.217312</td>\n",
       "      <td>-0.015234</td>\n",
       "      <td>700.08</td>\n",
       "      <td>-0.014905</td>\n",
       "      <td>3.213365</td>\n",
       "      <td>-0.016221</td>\n",
       "      <td>-0.016550</td>\n",
       "    </tr>\n",
       "    <tr>\n",
       "      <th>...</th>\n",
       "      <td>...</td>\n",
       "      <td>...</td>\n",
       "      <td>...</td>\n",
       "      <td>...</td>\n",
       "      <td>...</td>\n",
       "      <td>...</td>\n",
       "      <td>...</td>\n",
       "      <td>...</td>\n",
       "    </tr>\n",
       "    <tr>\n",
       "      <th>14996</th>\n",
       "      <td>999.92</td>\n",
       "      <td>2.348479</td>\n",
       "      <td>1.113822</td>\n",
       "      <td>NaN</td>\n",
       "      <td>NaN</td>\n",
       "      <td>2.335649</td>\n",
       "      <td>1.108558</td>\n",
       "      <td>NaN</td>\n",
       "    </tr>\n",
       "    <tr>\n",
       "      <th>14997</th>\n",
       "      <td>999.94</td>\n",
       "      <td>2.342887</td>\n",
       "      <td>1.114809</td>\n",
       "      <td>NaN</td>\n",
       "      <td>NaN</td>\n",
       "      <td>2.334333</td>\n",
       "      <td>1.100991</td>\n",
       "      <td>NaN</td>\n",
       "    </tr>\n",
       "    <tr>\n",
       "      <th>14998</th>\n",
       "      <td>999.96</td>\n",
       "      <td>2.345848</td>\n",
       "      <td>1.117111</td>\n",
       "      <td>NaN</td>\n",
       "      <td>NaN</td>\n",
       "      <td>2.335649</td>\n",
       "      <td>1.109545</td>\n",
       "      <td>NaN</td>\n",
       "    </tr>\n",
       "    <tr>\n",
       "      <th>14999</th>\n",
       "      <td>999.98</td>\n",
       "      <td>2.342229</td>\n",
       "      <td>1.116124</td>\n",
       "      <td>NaN</td>\n",
       "      <td>NaN</td>\n",
       "      <td>2.330715</td>\n",
       "      <td>1.108229</td>\n",
       "      <td>NaN</td>\n",
       "    </tr>\n",
       "    <tr>\n",
       "      <th>15000</th>\n",
       "      <td>1000.00</td>\n",
       "      <td>2.346506</td>\n",
       "      <td>1.119743</td>\n",
       "      <td>NaN</td>\n",
       "      <td>NaN</td>\n",
       "      <td>2.334991</td>\n",
       "      <td>1.105926</td>\n",
       "      <td>NaN</td>\n",
       "    </tr>\n",
       "  </tbody>\n",
       "</table>\n",
       "<p>15001 rows × 8 columns</p>\n",
       "</div>"
      ],
      "text/plain": [
       "            wl     ref_1    GaAs_1   wl_bg      bg_1     ref_2    GaAs_2  \\\n",
       "0       700.00  3.218957 -0.011616  700.00 -0.012931  3.209746 -0.010958   \n",
       "1       700.02  3.217970 -0.018524  700.02 -0.019511  3.211391 -0.014247   \n",
       "2       700.04  3.216654 -0.018195  700.04 -0.010958  3.194942 -0.007997   \n",
       "3       700.06  3.217641 -0.011287  700.06 -0.010958  3.208759 -0.009971   \n",
       "4       700.08  3.217312 -0.015234  700.08 -0.014905  3.213365 -0.016221   \n",
       "...        ...       ...       ...     ...       ...       ...       ...   \n",
       "14996   999.92  2.348479  1.113822     NaN       NaN  2.335649  1.108558   \n",
       "14997   999.94  2.342887  1.114809     NaN       NaN  2.334333  1.100991   \n",
       "14998   999.96  2.345848  1.117111     NaN       NaN  2.335649  1.109545   \n",
       "14999   999.98  2.342229  1.116124     NaN       NaN  2.330715  1.108229   \n",
       "15000  1000.00  2.346506  1.119743     NaN       NaN  2.334991  1.105926   \n",
       "\n",
       "           bg_2  \n",
       "0     -0.006352  \n",
       "1     -0.015892  \n",
       "2     -0.015234  \n",
       "3     -0.012274  \n",
       "4     -0.016550  \n",
       "...         ...  \n",
       "14996       NaN  \n",
       "14997       NaN  \n",
       "14998       NaN  \n",
       "14999       NaN  \n",
       "15000       NaN  \n",
       "\n",
       "[15001 rows x 8 columns]"
      ]
     },
     "execution_count": 2,
     "metadata": {},
     "output_type": "execute_result"
    }
   ],
   "source": [
    "df = pd.read_csv('GaAs_normal.csv')\n",
    "df"
   ]
  },
  {
   "cell_type": "code",
   "execution_count": 3,
   "metadata": {},
   "outputs": [
    {
     "data": {
      "text/plain": [
       "<Figure size 432x288 with 0 Axes>"
      ]
     },
     "metadata": {},
     "output_type": "display_data"
    },
    {
     "data": {
      "image/png": "[encoded data removed]",
      "text/plain": [
       "<Figure size 432x288 with 1 Axes>"
      ]
     },
     "metadata": {
      "needs_background": "light"
     },
     "output_type": "display_data"
    }
   ],
   "source": [
    "plt.figure()\n",
    "ax = df.plot('wl','ref_1')\n",
    "df.plot('wl', 'GaAs_1', ax=ax)\n",
    "df.plot('wl_bg', 'bg_1', ax=ax)\n",
    "plt.show()"
   ]
  },
  {
   "cell_type": "code",
   "execution_count": 4,
   "metadata": {},
   "outputs": [
    {
     "data": {
      "text/plain": [
       "wl        850.000000\n",
       "ref_1       2.464700\n",
       "GaAs_1      0.385852\n",
       "wl_bg     730.000000\n",
       "bg_1       -0.018928\n",
       "ref_2       2.453961\n",
       "GaAs_2      0.382456\n",
       "bg_2       -0.016787\n",
       "dtype: float64"
      ]
     },
     "execution_count": 4,
     "metadata": {},
     "output_type": "execute_result"
    }
   ],
   "source": [
    "df.mean()"
   ]
  },
  {
   "cell_type": "code",
   "execution_count": 5,
   "metadata": {},
   "outputs": [],
   "source": [
    "BG_1 = -0.018928\n",
    "BG_2 = -0.016787"
   ]
  },
  {
   "cell_type": "code",
   "execution_count": 6,
   "metadata": {},
   "outputs": [
    {
     "data": {
      "text/html": [
       "<div>\n",
       "<style scoped>\n",
       "    .dataframe tbody tr th:only-of-type {\n",
       "        vertical-align: middle;\n",
       "    }\n",
       "\n",
       "    .dataframe tbody tr th {\n",
       "        vertical-align: top;\n",
       "    }\n",
       "\n",
       "    .dataframe thead th {\n",
       "        text-align: right;\n",
       "    }\n",
       "</style>\n",
       "<table border=\"1\" class=\"dataframe\">\n",
       "  <thead>\n",
       "    <tr style=\"text-align: right;\">\n",
       "      <th></th>\n",
       "      <th>wl</th>\n",
       "      <th>ref_1</th>\n",
       "      <th>GaAs_1</th>\n",
       "      <th>wl_bg</th>\n",
       "      <th>bg_1</th>\n",
       "      <th>ref_2</th>\n",
       "      <th>GaAs_2</th>\n",
       "      <th>bg_2</th>\n",
       "      <th>T_1</th>\n",
       "      <th>T_2</th>\n",
       "    </tr>\n",
       "  </thead>\n",
       "  <tbody>\n",
       "    <tr>\n",
       "      <th>0</th>\n",
       "      <td>700.00</td>\n",
       "      <td>3.218957</td>\n",
       "      <td>-0.011616</td>\n",
       "      <td>700.00</td>\n",
       "      <td>-0.012931</td>\n",
       "      <td>3.209746</td>\n",
       "      <td>-0.010958</td>\n",
       "      <td>-0.006352</td>\n",
       "      <td>0.002258</td>\n",
       "      <td>0.001807</td>\n",
       "    </tr>\n",
       "    <tr>\n",
       "      <th>1</th>\n",
       "      <td>700.02</td>\n",
       "      <td>3.217970</td>\n",
       "      <td>-0.018524</td>\n",
       "      <td>700.02</td>\n",
       "      <td>-0.019511</td>\n",
       "      <td>3.211391</td>\n",
       "      <td>-0.014247</td>\n",
       "      <td>-0.015892</td>\n",
       "      <td>0.000125</td>\n",
       "      <td>0.000787</td>\n",
       "    </tr>\n",
       "    <tr>\n",
       "      <th>2</th>\n",
       "      <td>700.04</td>\n",
       "      <td>3.216654</td>\n",
       "      <td>-0.018195</td>\n",
       "      <td>700.04</td>\n",
       "      <td>-0.010958</td>\n",
       "      <td>3.194942</td>\n",
       "      <td>-0.007997</td>\n",
       "      <td>-0.015234</td>\n",
       "      <td>0.000227</td>\n",
       "      <td>0.002737</td>\n",
       "    </tr>\n",
       "    <tr>\n",
       "      <th>3</th>\n",
       "      <td>700.06</td>\n",
       "      <td>3.217641</td>\n",
       "      <td>-0.011287</td>\n",
       "      <td>700.06</td>\n",
       "      <td>-0.010958</td>\n",
       "      <td>3.208759</td>\n",
       "      <td>-0.009971</td>\n",
       "      <td>-0.012274</td>\n",
       "      <td>0.002361</td>\n",
       "      <td>0.002113</td>\n",
       "    </tr>\n",
       "    <tr>\n",
       "      <th>4</th>\n",
       "      <td>700.08</td>\n",
       "      <td>3.217312</td>\n",
       "      <td>-0.015234</td>\n",
       "      <td>700.08</td>\n",
       "      <td>-0.014905</td>\n",
       "      <td>3.213365</td>\n",
       "      <td>-0.016221</td>\n",
       "      <td>-0.016550</td>\n",
       "      <td>0.001141</td>\n",
       "      <td>0.000175</td>\n",
       "    </tr>\n",
       "    <tr>\n",
       "      <th>...</th>\n",
       "      <td>...</td>\n",
       "      <td>...</td>\n",
       "      <td>...</td>\n",
       "      <td>...</td>\n",
       "      <td>...</td>\n",
       "      <td>...</td>\n",
       "      <td>...</td>\n",
       "      <td>...</td>\n",
       "      <td>...</td>\n",
       "      <td>...</td>\n",
       "    </tr>\n",
       "    <tr>\n",
       "      <th>14996</th>\n",
       "      <td>999.92</td>\n",
       "      <td>2.348479</td>\n",
       "      <td>1.113822</td>\n",
       "      <td>NaN</td>\n",
       "      <td>NaN</td>\n",
       "      <td>2.335649</td>\n",
       "      <td>1.108558</td>\n",
       "      <td>NaN</td>\n",
       "      <td>0.478477</td>\n",
       "      <td>0.478374</td>\n",
       "    </tr>\n",
       "    <tr>\n",
       "      <th>14997</th>\n",
       "      <td>999.94</td>\n",
       "      <td>2.342887</td>\n",
       "      <td>1.114809</td>\n",
       "      <td>NaN</td>\n",
       "      <td>NaN</td>\n",
       "      <td>2.334333</td>\n",
       "      <td>1.100991</td>\n",
       "      <td>NaN</td>\n",
       "      <td>0.480028</td>\n",
       "      <td>0.475424</td>\n",
       "    </tr>\n",
       "    <tr>\n",
       "      <th>14998</th>\n",
       "      <td>999.96</td>\n",
       "      <td>2.345848</td>\n",
       "      <td>1.117111</td>\n",
       "      <td>NaN</td>\n",
       "      <td>NaN</td>\n",
       "      <td>2.335649</td>\n",
       "      <td>1.109545</td>\n",
       "      <td>NaN</td>\n",
       "      <td>0.480400</td>\n",
       "      <td>0.478794</td>\n",
       "    </tr>\n",
       "    <tr>\n",
       "      <th>14999</th>\n",
       "      <td>999.98</td>\n",
       "      <td>2.342229</td>\n",
       "      <td>1.116124</td>\n",
       "      <td>NaN</td>\n",
       "      <td>NaN</td>\n",
       "      <td>2.330715</td>\n",
       "      <td>1.108229</td>\n",
       "      <td>NaN</td>\n",
       "      <td>0.480719</td>\n",
       "      <td>0.479240</td>\n",
       "    </tr>\n",
       "    <tr>\n",
       "      <th>15000</th>\n",
       "      <td>1000.00</td>\n",
       "      <td>2.346506</td>\n",
       "      <td>1.119743</td>\n",
       "      <td>NaN</td>\n",
       "      <td>NaN</td>\n",
       "      <td>2.334991</td>\n",
       "      <td>1.105926</td>\n",
       "      <td>NaN</td>\n",
       "      <td>0.481379</td>\n",
       "      <td>0.477389</td>\n",
       "    </tr>\n",
       "  </tbody>\n",
       "</table>\n",
       "<p>15001 rows × 10 columns</p>\n",
       "</div>"
      ],
      "text/plain": [
       "            wl     ref_1    GaAs_1   wl_bg      bg_1     ref_2    GaAs_2  \\\n",
       "0       700.00  3.218957 -0.011616  700.00 -0.012931  3.209746 -0.010958   \n",
       "1       700.02  3.217970 -0.018524  700.02 -0.019511  3.211391 -0.014247   \n",
       "2       700.04  3.216654 -0.018195  700.04 -0.010958  3.194942 -0.007997   \n",
       "3       700.06  3.217641 -0.011287  700.06 -0.010958  3.208759 -0.009971   \n",
       "4       700.08  3.217312 -0.015234  700.08 -0.014905  3.213365 -0.016221   \n",
       "...        ...       ...       ...     ...       ...       ...       ...   \n",
       "14996   999.92  2.348479  1.113822     NaN       NaN  2.335649  1.108558   \n",
       "14997   999.94  2.342887  1.114809     NaN       NaN  2.334333  1.100991   \n",
       "14998   999.96  2.345848  1.117111     NaN       NaN  2.335649  1.109545   \n",
       "14999   999.98  2.342229  1.116124     NaN       NaN  2.330715  1.108229   \n",
       "15000  1000.00  2.346506  1.119743     NaN       NaN  2.334991  1.105926   \n",
       "\n",
       "           bg_2       T_1       T_2  \n",
       "0     -0.006352  0.002258  0.001807  \n",
       "1     -0.015892  0.000125  0.000787  \n",
       "2     -0.015234  0.000227  0.002737  \n",
       "3     -0.012274  0.002361  0.002113  \n",
       "4     -0.016550  0.001141  0.000175  \n",
       "...         ...       ...       ...  \n",
       "14996       NaN  0.478477  0.478374  \n",
       "14997       NaN  0.480028  0.475424  \n",
       "14998       NaN  0.480400  0.478794  \n",
       "14999       NaN  0.480719  0.479240  \n",
       "15000       NaN  0.481379  0.477389  \n",
       "\n",
       "[15001 rows x 10 columns]"
      ]
     },
     "execution_count": 6,
     "metadata": {},
     "output_type": "execute_result"
    }
   ],
   "source": [
    "df['T_1'] = (df['GaAs_1'] - BG_1) / (df['ref_1'] - BG_1)\n",
    "df['T_2'] = (df['GaAs_2'] - BG_2) / (df['ref_2'] - BG_2)\n",
    "df"
   ]
  },
  {
   "cell_type": "code",
   "execution_count": 7,
   "metadata": {},
   "outputs": [],
   "source": [
    "df['wl_eV'] = 1239.8/(df['wl'] + 1.7)"
   ]
  },
  {
   "cell_type": "code",
   "execution_count": 8,
   "metadata": {},
   "outputs": [
    {
     "data": {
      "text/plain": [
       "<Figure size 432x288 with 0 Axes>"
      ]
     },
     "metadata": {},
     "output_type": "display_data"
    },
    {
     "data": {
      "image/png": "[encoded data removed]",
      "text/plain": [
       "<Figure size 432x288 with 1 Axes>"
      ]
     },
     "metadata": {
      "needs_background": "light"
     },
     "output_type": "display_data"
    }
   ],
   "source": [
    "plt.figure()\n",
    "ax = df.plot('wl_eV', 'T_1', label='First experiment')\n",
    "df.plot('wl_eV', 'T_2', ax=ax, label='Second experiment')\n",
    "plt.xlim(1.2,1.8)\n",
    "plt.ylim(-0.05,0.5)\n",
    "plt.xlabel(r'Energy (eV)')\n",
    "plt.ylabel(r'Transmittance')\n",
    "plt.grid()\n",
    "plt.legend()\n",
    "plt.show()"
   ]
  },
  {
   "cell_type": "code",
   "execution_count": 14,
   "metadata": {},
   "outputs": [
    {
     "data": {
      "text/plain": [
       "<Figure size 432x288 with 0 Axes>"
      ]
     },
     "metadata": {},
     "output_type": "display_data"
    },
    {
     "data": {
      "image/png": "[encoded data removed]",
      "text/plain": [
       "<Figure size 432x288 with 1 Axes>"
      ]
     },
     "metadata": {
      "needs_background": "light"
     },
     "output_type": "display_data"
    }
   ],
   "source": [
    "plt.figure()\n",
    "ax = df.plot('wl_eV', 'T_1', label='First experiment')\n",
    "#df.plot('wl_eV', 'T_2', ax=ax, label='Second experiment')\n",
    "plt.xlim(1.35,1.43)\n",
    "#plt.ylim(-0.05,0.5)\n",
    "plt.ylim(0.0001,1)\n",
    "plt.yscale('log')\n",
    "\n",
    "plt.xlabel(r'Energy (eV)')\n",
    "plt.ylabel(r'Transmittance')\n",
    "plt.grid()\n",
    "plt.legend()\n",
    "plt.show()"
   ]
  },
  {
   "cell_type": "code",
   "execution_count": null,
   "metadata": {},
   "outputs": [],
   "source": []
  }
 ],
 "metadata": {
  "interpreter": {
   "hash": "b1e0d7642be22cffe3fc7c13c4a6ef160b804554493ff5112b51402e3f69826a"
  },
  "kernelspec": {
   "display_name": "Python 3.9.9 64-bit (windows store)",
   "language": "python",
   "name": "python3"
  },
  "language_info": {
   "codemirror_mode": {
    "name": "ipython",
    "version": 3
   },
   "file_extension": ".py",
   "mimetype": "text/x-python",
   "name": "python",
   "nbconvert_exporter": "python",
   "pygments_lexer": "ipython3",
   "version": "3.9.9"
  },
  "orig_nbformat": 4
 },
 "nbformat": 4,
 "nbformat_minor": 2
}
